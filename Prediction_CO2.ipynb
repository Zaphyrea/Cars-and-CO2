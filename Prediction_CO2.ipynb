{
 "cells": [
  {
   "attachments": {},
   "cell_type": "markdown",
   "id": "03daec40",
   "metadata": {},
   "source": [
    "## Notebook 2: Apprentissage automatique, Regression: Pollution CO2"
   ]
  },
  {
   "attachments": {},
   "cell_type": "markdown",
   "id": "2e082814",
   "metadata": {},
   "source": [
    "#### Import des bibliothèques"
   ]
  },
  {
   "cell_type": "code",
   "execution_count": 1,
   "id": "82bfb92a",
   "metadata": {},
   "outputs": [],
   "source": [
    "import pandas as pd\n",
    "import numpy as np\n",
    "#-------------------------------------------------\n",
    "\n",
    "from sklearn.model_selection import train_test_split\n",
    "from sklearn.metrics import r2_score, mean_absolute_error, mean_squared_error\n",
    "\n",
    "#-------------------------------------------------\n",
    "from sklearn.pipeline import Pipeline\n",
    "from sklearn.pipeline import make_pipeline\n",
    "\n",
    "from sklearn.preprocessing import OneHotEncoder, StandardScaler, MinMaxScaler, LabelEncoder\n",
    "from sklearn.compose import ColumnTransformer\n",
    "from sklearn.compose import TransformedTargetRegressor, make_column_transformer\n",
    "\n",
    "#--------------------------------------------------------\n",
    "from sklearn.dummy import DummyRegressor\n",
    "from sklearn.linear_model import LinearRegression, SGDRegressor\n",
    "\n",
    "#--------------------------------------------------------\n",
    "from sklearn.ensemble import RandomForestRegressor, GradientBoostingRegressor\n",
    "from sklearn.inspection import permutation_importance\n",
    "#------------------------------------------------\n",
    "from xgboost import XGBRegressor\n",
    "\n",
    "#-----------------------------------------------------------\n",
    "from sklearn.model_selection import GridSearchCV\n",
    "\n",
    "#-----------------------------------------------------------\n",
    "from joblib import dump"
   ]
  },
  {
   "attachments": {},
   "cell_type": "markdown",
   "id": "dbeb2921",
   "metadata": {},
   "source": [
    "## Checklist\n",
    "\n",
    "Depuis 2001, **l’ADEME** acquiert tous les ans ces données auprès de **l’Union Technique de l’Automobile du motocycle et du Cycle UTAC** (en charge de l’homologation des véhicules avant leur mise en vente) en accord avec le ministère du développement durable.\n",
    "Pour chaque véhicule les données d’origine (transmises par l’Utac) sont les suivantes :\n",
    "\n",
    "* **Les consommations de carburant**\n",
    "\n",
    "* **Les émissions de dioxyde de carbone (CO2)**\n",
    "\n",
    "* **Les émissions des polluants de l’air** (réglementés dans le cadre de la norme Euro)\n",
    "\n",
    "* **L’ensemble des caractéristiques techniques des véhicules** (gammes, marques, modèles, n° de CNIT, type d’énergie ...)\n",
    "\n",
    "\n",
    "\n",
    "# L'inventaire des variables pertinentes:\n",
    "\n",
    "Les données comprennent les variables pertinentes suivantes:\n",
    "\n",
    "* **lib_mrq_utac**: La marque, il y en a 12.\n",
    "\n",
    "* **lib_mod**: Le modèle commerciale, il y en a 20.\n",
    "\n",
    "* **cod_cbr**: Le type de carburant, il y en a 5.\n",
    "\n",
    "* **hybride**: Information permettant d’identifier les véhicules hybrides (O/N)\n",
    "\n",
    "* **puiss_max** : Puissance maximale\n",
    "\n",
    "* **typ_boite_nb_rapp**: Type boite de vitesse et le nombre de rapport.\n",
    "\n",
    "* **conso_urb**: Consommation urbaine de carburant (en l/100km),\n",
    "\n",
    "* **conso_exurb**: consommation extra urbaine de carburant (en l/100km),\n",
    "\n",
    "* **conso_mixte**: Consommation mixte de carburant (en l/100km),\n",
    "\n",
    "* **co2**: Emission de CO2 (en g/km),\n",
    "\n",
    "* **masse_ordma_min**: Masse en ordre de marche mini\n",
    "\n",
    "* **masse_ordma_max**: Masse en ordre de marche max\n",
    " \n",
    "* **Carrosserie**: Carrosserie\n",
    "\n",
    "* **gamme**: Gamme du véhicule\n",
    "\n",
    "\n",
    "\n",
    "# Objectif\n",
    "\n",
    "Notre objectif majeur dans ce notebook 2 est de :\n",
    "\n",
    "Prédire les émissions de **CO2** des véhicules en fonction de certaines informations (Variables explicatives)\n",
    "\n",
    "* En utilisant 6 modèles différents\n",
    "\n",
    "* En comparant les scores\n",
    "    \n",
    "* En choisissant le meilleur modèle\n",
    "\n",
    "\n",
    "# Description des données\n",
    "\n",
    "Lien vers les données: https://www.data.gouv.fr/fr/datasets/emissions-de-co2-et-de-polluants-des-vehicules-commercialises-en-france/\n"
   ]
  },
  {
   "attachments": {},
   "cell_type": "markdown",
   "id": "4aa43bf0",
   "metadata": {},
   "source": [
    "### Chargement, lecture, apercu et infos des données"
   ]
  },
  {
   "cell_type": "code",
   "execution_count": 2,
   "id": "564f490c",
   "metadata": {},
   "outputs": [],
   "source": [
    "# import data\n",
    "data_model = pd.read_csv(\"data_model.csv\")"
   ]
  },
  {
   "cell_type": "code",
   "execution_count": 3,
   "id": "23519f34",
   "metadata": {},
   "outputs": [
    {
     "data": {
      "text/html": [
       "<div>\n",
       "<style scoped>\n",
       "    .dataframe tbody tr th:only-of-type {\n",
       "        vertical-align: middle;\n",
       "    }\n",
       "\n",
       "    .dataframe tbody tr th {\n",
       "        vertical-align: top;\n",
       "    }\n",
       "\n",
       "    .dataframe thead th {\n",
       "        text-align: right;\n",
       "    }\n",
       "</style>\n",
       "<table border=\"1\" class=\"dataframe\">\n",
       "  <thead>\n",
       "    <tr style=\"text-align: right;\">\n",
       "      <th></th>\n",
       "      <th>lib_mrq</th>\n",
       "      <th>cnit</th>\n",
       "      <th>cod_cbr</th>\n",
       "      <th>hybride</th>\n",
       "      <th>puiss_max</th>\n",
       "      <th>Carrosserie</th>\n",
       "      <th>gamme</th>\n",
       "      <th>co2</th>\n",
       "      <th>masse_ordma_min</th>\n",
       "      <th>masse_ordma_max</th>\n",
       "      <th>Type_boite</th>\n",
       "      <th>Nb_rapp</th>\n",
       "    </tr>\n",
       "  </thead>\n",
       "  <tbody>\n",
       "    <tr>\n",
       "      <th>7485</th>\n",
       "      <td>MERCEDES</td>\n",
       "      <td>M10MCDVPF12S772</td>\n",
       "      <td>GO</td>\n",
       "      <td>non</td>\n",
       "      <td>95</td>\n",
       "      <td>MINIBUS</td>\n",
       "      <td>MOY-INFER</td>\n",
       "      <td>216.0</td>\n",
       "      <td>2186.0</td>\n",
       "      <td>2355.0</td>\n",
       "      <td>A</td>\n",
       "      <td>7.0</td>\n",
       "    </tr>\n",
       "    <tr>\n",
       "      <th>50871</th>\n",
       "      <td>VOLKSWAGEN</td>\n",
       "      <td>M10VWGVPC47M876</td>\n",
       "      <td>GO</td>\n",
       "      <td>non</td>\n",
       "      <td>100</td>\n",
       "      <td>MINIBUS</td>\n",
       "      <td>MOY-INFER</td>\n",
       "      <td>209.0</td>\n",
       "      <td>2219.0</td>\n",
       "      <td>2815.0</td>\n",
       "      <td>M</td>\n",
       "      <td>6.0</td>\n",
       "    </tr>\n",
       "    <tr>\n",
       "      <th>23164</th>\n",
       "      <td>MERCEDES</td>\n",
       "      <td>M10MCDVP6058635</td>\n",
       "      <td>GO</td>\n",
       "      <td>non</td>\n",
       "      <td>120</td>\n",
       "      <td>MINIBUS</td>\n",
       "      <td>MOY-SUPER</td>\n",
       "      <td>193.0</td>\n",
       "      <td>2186.0</td>\n",
       "      <td>2350.0</td>\n",
       "      <td>M</td>\n",
       "      <td>6.0</td>\n",
       "    </tr>\n",
       "    <tr>\n",
       "      <th>4266</th>\n",
       "      <td>MERCEDES</td>\n",
       "      <td>M10MCDVPFY6C198</td>\n",
       "      <td>GO</td>\n",
       "      <td>non</td>\n",
       "      <td>125</td>\n",
       "      <td>COUPE</td>\n",
       "      <td>SUPERIEURE</td>\n",
       "      <td>123.0</td>\n",
       "      <td>1615.0</td>\n",
       "      <td>1615.0</td>\n",
       "      <td>M</td>\n",
       "      <td>6.0</td>\n",
       "    </tr>\n",
       "    <tr>\n",
       "      <th>28833</th>\n",
       "      <td>MERCEDES</td>\n",
       "      <td>M10MCDVP025C892</td>\n",
       "      <td>ES</td>\n",
       "      <td>non</td>\n",
       "      <td>190</td>\n",
       "      <td>MINIBUS</td>\n",
       "      <td>MOY-SUPER</td>\n",
       "      <td>284.0</td>\n",
       "      <td>2076.0</td>\n",
       "      <td>2185.0</td>\n",
       "      <td>A</td>\n",
       "      <td>5.0</td>\n",
       "    </tr>\n",
       "    <tr>\n",
       "      <th>6632</th>\n",
       "      <td>MERCEDES</td>\n",
       "      <td>M1GMCDVPX557807</td>\n",
       "      <td>GO</td>\n",
       "      <td>non</td>\n",
       "      <td>190</td>\n",
       "      <td>TS TERRAINS/CHEMINS</td>\n",
       "      <td>LUXE</td>\n",
       "      <td>189.0</td>\n",
       "      <td>2175.0</td>\n",
       "      <td>2175.0</td>\n",
       "      <td>A</td>\n",
       "      <td>7.0</td>\n",
       "    </tr>\n",
       "    <tr>\n",
       "      <th>38630</th>\n",
       "      <td>MERCEDES</td>\n",
       "      <td>M10MCDVP372U987</td>\n",
       "      <td>GO</td>\n",
       "      <td>non</td>\n",
       "      <td>165</td>\n",
       "      <td>MINIBUS</td>\n",
       "      <td>MOY-INFER</td>\n",
       "      <td>226.0</td>\n",
       "      <td>2356.0</td>\n",
       "      <td>2450.0</td>\n",
       "      <td>A</td>\n",
       "      <td>5.0</td>\n",
       "    </tr>\n",
       "  </tbody>\n",
       "</table>\n",
       "</div>"
      ],
      "text/plain": [
       "          lib_mrq             cnit cod_cbr hybride puiss_max  \\\n",
       "7485     MERCEDES  M10MCDVPF12S772      GO     non        95   \n",
       "50871  VOLKSWAGEN  M10VWGVPC47M876      GO     non       100   \n",
       "23164    MERCEDES  M10MCDVP6058635      GO     non       120   \n",
       "4266     MERCEDES  M10MCDVPFY6C198      GO     non       125   \n",
       "28833    MERCEDES  M10MCDVP025C892      ES     non       190   \n",
       "6632     MERCEDES  M1GMCDVPX557807      GO     non       190   \n",
       "38630    MERCEDES  M10MCDVP372U987      GO     non       165   \n",
       "\n",
       "               Carrosserie       gamme    co2  masse_ordma_min  \\\n",
       "7485               MINIBUS   MOY-INFER  216.0           2186.0   \n",
       "50871              MINIBUS   MOY-INFER  209.0           2219.0   \n",
       "23164              MINIBUS   MOY-SUPER  193.0           2186.0   \n",
       "4266                 COUPE  SUPERIEURE  123.0           1615.0   \n",
       "28833              MINIBUS   MOY-SUPER  284.0           2076.0   \n",
       "6632   TS TERRAINS/CHEMINS        LUXE  189.0           2175.0   \n",
       "38630              MINIBUS   MOY-INFER  226.0           2356.0   \n",
       "\n",
       "       masse_ordma_max Type_boite  Nb_rapp  \n",
       "7485            2355.0          A      7.0  \n",
       "50871           2815.0          M      6.0  \n",
       "23164           2350.0          M      6.0  \n",
       "4266            1615.0          M      6.0  \n",
       "28833           2185.0          A      5.0  \n",
       "6632            2175.0          A      7.0  \n",
       "38630           2450.0          A      5.0  "
      ]
     },
     "execution_count": 3,
     "metadata": {},
     "output_type": "execute_result"
    }
   ],
   "source": [
    "# check if import is correct\n",
    "data_model.sample(7)"
   ]
  },
  {
   "cell_type": "code",
   "execution_count": 4,
   "id": "ac0807f1",
   "metadata": {},
   "outputs": [
    {
     "name": "stdout",
     "output_type": "stream",
     "text": [
      "<class 'pandas.core.frame.DataFrame'>\n",
      "RangeIndex: 55028 entries, 0 to 55027\n",
      "Data columns (total 12 columns):\n",
      " #   Column           Non-Null Count  Dtype  \n",
      "---  ------           --------------  -----  \n",
      " 0   lib_mrq          55028 non-null  object \n",
      " 1   cnit             55028 non-null  object \n",
      " 2   cod_cbr          55028 non-null  object \n",
      " 3   hybride          55028 non-null  object \n",
      " 4   puiss_max        55028 non-null  object \n",
      " 5   Carrosserie      55028 non-null  object \n",
      " 6   gamme            55028 non-null  object \n",
      " 7   co2              55028 non-null  float64\n",
      " 8   masse_ordma_min  55028 non-null  float64\n",
      " 9   masse_ordma_max  55028 non-null  float64\n",
      " 10  Type_boite       55028 non-null  object \n",
      " 11  Nb_rapp          55028 non-null  float64\n",
      "dtypes: float64(4), object(8)\n",
      "memory usage: 5.0+ MB\n"
     ]
    }
   ],
   "source": [
    "# informations about the dataframe\n",
    "data_model.info()"
   ]
  },
  {
   "attachments": {},
   "cell_type": "markdown",
   "id": "bd400b03",
   "metadata": {},
   "source": [
    "### Selectionner les features les plus importants"
   ]
  },
  {
   "cell_type": "code",
   "execution_count": 5,
   "id": "3f815f33",
   "metadata": {},
   "outputs": [],
   "source": [
    "# most important features\n",
    "New_Data = data_model[['Carrosserie', 'masse_ordma_min', 'masse_ordma_max', 'co2']]"
   ]
  },
  {
   "cell_type": "code",
   "execution_count": 6,
   "id": "f1bbc7ee",
   "metadata": {},
   "outputs": [],
   "source": [
    "# here Y will keep CO2 feature (which is our target) and X will become our new dataset without CO2 feature\n",
    "y = New_Data['co2']    # Target\n",
    "X = New_Data.drop(['co2'] ,axis =1)  # Features"
   ]
  },
  {
   "attachments": {},
   "cell_type": "markdown",
   "id": "0587cf73",
   "metadata": {},
   "source": [
    "### Traiter la colonne Carrosserie"
   ]
  },
  {
   "cell_type": "code",
   "execution_count": 7,
   "id": "d08a9139",
   "metadata": {},
   "outputs": [
    {
     "data": {
      "text/plain": [
       "['Encoder.pkl']"
      ]
     },
     "execution_count": 7,
     "metadata": {},
     "output_type": "execute_result"
    }
   ],
   "source": [
    "# encode 'Carrosserie' categorical feature into numerical\n",
    "le=LabelEncoder()\n",
    "X['Carrosserie']=le.fit_transform(X['Carrosserie'])\n",
    "dump(le,'Encoder.pkl')"
   ]
  },
  {
   "attachments": {},
   "cell_type": "markdown",
   "id": "2254f351",
   "metadata": {},
   "source": [
    "### Prediction de CO2\n",
    "    \n",
    "Pour chacun de nos modèles:\n",
    "   * **DummyRegressor**,\n",
    "   * **LinearRegression**, \n",
    "   * **SGDRegressor**, \n",
    "   * **RandomForestRegressor**,\n",
    "   * **GradientBoostingRegressor**,\n",
    "   * **XGBRegressor**, \n",
    "    \n",
    "Nous allons predire le niveau d'émission de **Co2** puis établir une comparaison entre les performances de chaque modèle.\n",
    "\n",
    "    Appliquer un GridSearch pour optimiser les hyperparamètres de chaque modèle\n",
    "    Paramètrer dans GridSearch les scores qui sont adaptés à la régression (R2, MAE et RMSE)\n",
    "    Identifier le meilleur modèle"
   ]
  },
  {
   "cell_type": "code",
   "execution_count": 8,
   "id": "f7e5d140",
   "metadata": {},
   "outputs": [],
   "source": [
    "# Create the regressors and their respective hyperparameters grids\n",
    "# regressors = [DummyRegressor(), LinearRegression(), SGDRegressor(), RandomForestRegressor(), GradientBoostingRegressor(), XGBRegressor()]\n",
    "\n",
    "# param_grids =[{'strategy': ['mean', 'median', 'quantile'], 'quantile' : [0.8]},\n",
    "#                 {'fit_intercept': [True, False], 'copy_X': [True, False], 'n_jobs': [None, 1, 2, 3, 4, 5, 6, 7, 8, 9, 10]},\n",
    "#                 {'loss' : ['squared_loss', 'huber', 'epsilon_insensitive', 'squared_epsilon_insensitive'], 'penalty' : ['l2', 'l1', 'elasticnet'], 'alpha' : [0.0001, 0.001, 0.01, 0.1, 1]},\n",
    "#                 {'n_estimators' : [100, 200, 300, 400, 500], 'criterion' : ['mse', 'mae'], 'max_depth' : [None, 1, 2, 3, 4, 5, 6, 7, 8, 9, 10]},\n",
    "#                 {'loss' : ['ls', 'lad', 'huber', 'quantile'], 'learning_rate' : [0.001, 0.01, 0.1, 1], 'n_estimators' : [100, 200, 300, 400, 500], 'criterion' : ['friedman_mse', 'mse', 'mae']},\n",
    "#                 {'objective' : ['reg:squarederror', 'reg:squaredlogerror', 'reg:logistic', 'reg:pseudohubererror'], 'learning_rate' : [0.001, 0.01, 0.1, 1], 'n_estimators' : [100, 200, 300, 400, 500]}\n",
    "#                 ]\n",
    "\n",
    "regressors = {'DummyRegressor' : DummyRegressor(),\n",
    "              'LinearRegression' : LinearRegression(),\n",
    "              'SGDRegressor' : SGDRegressor(),\n",
    "              'RandomForestRegressor' : RandomForestRegressor(),\n",
    "              'GradientBoostingRegressor' : GradientBoostingRegressor(),\n",
    "              'XGBRegressor' : XGBRegressor()\n",
    "              }\n",
    "\n",
    "param_grids = {'DummyRegressor' : {'strategy': ['mean', 'median', 'quantile'], 'quantile' : [0.8]},\n",
    "                'LinearRegression' : {'fit_intercept': [True, False], 'copy_X': [True, False], 'n_jobs': [None, 1, 6]},\n",
    "                'SGDRegressor' : {'loss' : ['squared_loss', 'huber'], 'penalty' : ['l2', 'l1'], 'alpha' : [0.01, 0.1]},\n",
    "                'RandomForestRegressor' : {'n_estimators' : [20, 50], 'criterion' : ['poisson', 'squared_error']},\n",
    "                'GradientBoostingRegressor' : {'loss' : ['ls', 'huber',], 'learning_rate' : [0.01,0.1], 'n_estimators' : [50]},\n",
    "                'XGBRegressor' : {'learning_rate' : [0.001, 1], 'n_estimators' : [50, 100]}\n",
    "                }\n",
    "\n"
   ]
  },
  {
   "cell_type": "code",
   "execution_count": null,
   "id": "331bfc6e",
   "metadata": {},
   "outputs": [],
   "source": [
    "# Useful for SGDRegressor\n",
    "scaler = StandardScaler()  # Create a StandardScaler object\n",
    "X = scaler.fit_transform(X)  # Standardize the features in matrix X\n",
    "dump(scaler, 'Scaler.pkl')  # Save the scaler for later use"
   ]
  },
  {
   "cell_type": "code",
   "execution_count": 9,
   "id": "a105a60b",
   "metadata": {},
   "outputs": [
    {
     "name": "stdout",
     "output_type": "stream",
     "text": [
      "evaluation of DummyRegressor running\n",
      "Best Parameters: {'quantile': 0.8, 'strategy': 'mean'}\n",
      "R2: -7.69110327403233e-06\n",
      "MAE: 22.302972549351892\n",
      "RMSE: 34.04974648960275\n",
      "====================\n",
      "evaluation of LinearRegression running\n",
      "Best Parameters: {'copy_X': True, 'fit_intercept': True, 'n_jobs': None}\n",
      "R2: 0.430097227675622\n",
      "MAE: 17.050194358060917\n",
      "RMSE: 25.70470343021974\n",
      "====================\n",
      "evaluation of SGDRegressor running\n"
     ]
    },
    {
     "name": "stderr",
     "output_type": "stream",
     "text": [
      "/home/zaphyra/Documents/Vscode/iadev-py/numpy_py/.venvnumpy/lib64/python3.11/site-packages/sklearn/model_selection/_validation.py:378: FitFailedWarning: \n",
      "20 fits failed out of a total of 40.\n",
      "The score on these train-test partitions for these parameters will be set to nan.\n",
      "If these failures are not expected, you can try to debug them by setting error_score='raise'.\n",
      "\n",
      "Below are more details about the failures:\n",
      "--------------------------------------------------------------------------------\n",
      "20 fits failed with the following error:\n",
      "Traceback (most recent call last):\n",
      "  File \"/home/zaphyra/Documents/Vscode/iadev-py/numpy_py/.venvnumpy/lib64/python3.11/site-packages/sklearn/model_selection/_validation.py\", line 686, in _fit_and_score\n",
      "    estimator.fit(X_train, y_train, **fit_params)\n",
      "  File \"/home/zaphyra/Documents/Vscode/iadev-py/numpy_py/.venvnumpy/lib64/python3.11/site-packages/sklearn/linear_model/_stochastic_gradient.py\", line 1582, in fit\n",
      "    self._validate_params()\n",
      "  File \"/home/zaphyra/Documents/Vscode/iadev-py/numpy_py/.venvnumpy/lib64/python3.11/site-packages/sklearn/base.py\", line 600, in _validate_params\n",
      "    validate_parameter_constraints(\n",
      "  File \"/home/zaphyra/Documents/Vscode/iadev-py/numpy_py/.venvnumpy/lib64/python3.11/site-packages/sklearn/utils/_param_validation.py\", line 97, in validate_parameter_constraints\n",
      "    raise InvalidParameterError(\n",
      "sklearn.utils._param_validation.InvalidParameterError: The 'loss' parameter of SGDRegressor must be a str among {'squared_epsilon_insensitive', 'huber', 'epsilon_insensitive', 'squared_error'}. Got 'squared_loss' instead.\n",
      "\n",
      "  warnings.warn(some_fits_failed_message, FitFailedWarning)\n",
      "/home/zaphyra/Documents/Vscode/iadev-py/numpy_py/.venvnumpy/lib64/python3.11/site-packages/sklearn/model_selection/_search.py:952: UserWarning: One or more of the test scores are non-finite: [        nan         nan  0.23713432  0.4107143          nan         nan\n",
      "  0.03153591 -0.00184046]\n",
      "  warnings.warn(\n",
      "/home/zaphyra/Documents/Vscode/iadev-py/numpy_py/.venvnumpy/lib64/python3.11/site-packages/sklearn/model_selection/_search.py:952: UserWarning: One or more of the test scores are non-finite: [         nan          nan -19.82620163 -17.25116594          nan\n",
      "          nan -21.86755278 -22.13552947]\n",
      "  warnings.warn(\n",
      "/home/zaphyra/Documents/Vscode/iadev-py/numpy_py/.venvnumpy/lib64/python3.11/site-packages/sklearn/model_selection/_search.py:952: UserWarning: One or more of the test scores are non-finite: [           nan            nan  -881.73042182  -681.10568474\n",
      "            nan            nan -1119.29034327 -1157.83363336]\n",
      "  warnings.warn(\n"
     ]
    },
    {
     "name": "stdout",
     "output_type": "stream",
     "text": [
      "Best Parameters: {'alpha': 0.01, 'loss': 'huber', 'penalty': 'l1'}\n",
      "R2: 0.3972281836248005\n",
      "MAE: 17.11932292161953\n",
      "RMSE: 26.43557016105933\n",
      "====================\n",
      "evaluation of RandomForestRegressor running\n",
      "Best Parameters: {'criterion': 'poisson', 'n_estimators': 50}\n",
      "R2: 0.6668328112513786\n",
      "MAE: 12.423483892999414\n",
      "RMSE: 19.653654849518563\n",
      "====================\n",
      "evaluation of GradientBoostingRegressor running\n"
     ]
    },
    {
     "name": "stderr",
     "output_type": "stream",
     "text": [
      "/home/zaphyra/Documents/Vscode/iadev-py/numpy_py/.venvnumpy/lib64/python3.11/site-packages/sklearn/model_selection/_validation.py:378: FitFailedWarning: \n",
      "10 fits failed out of a total of 20.\n",
      "The score on these train-test partitions for these parameters will be set to nan.\n",
      "If these failures are not expected, you can try to debug them by setting error_score='raise'.\n",
      "\n",
      "Below are more details about the failures:\n",
      "--------------------------------------------------------------------------------\n",
      "10 fits failed with the following error:\n",
      "Traceback (most recent call last):\n",
      "  File \"/home/zaphyra/Documents/Vscode/iadev-py/numpy_py/.venvnumpy/lib64/python3.11/site-packages/sklearn/model_selection/_validation.py\", line 686, in _fit_and_score\n",
      "    estimator.fit(X_train, y_train, **fit_params)\n",
      "  File \"/home/zaphyra/Documents/Vscode/iadev-py/numpy_py/.venvnumpy/lib64/python3.11/site-packages/sklearn/ensemble/_gb.py\", line 420, in fit\n",
      "    self._validate_params()\n",
      "  File \"/home/zaphyra/Documents/Vscode/iadev-py/numpy_py/.venvnumpy/lib64/python3.11/site-packages/sklearn/base.py\", line 600, in _validate_params\n",
      "    validate_parameter_constraints(\n",
      "  File \"/home/zaphyra/Documents/Vscode/iadev-py/numpy_py/.venvnumpy/lib64/python3.11/site-packages/sklearn/utils/_param_validation.py\", line 97, in validate_parameter_constraints\n",
      "    raise InvalidParameterError(\n",
      "sklearn.utils._param_validation.InvalidParameterError: The 'loss' parameter of GradientBoostingRegressor must be a str among {'huber', 'absolute_error', 'quantile', 'squared_error'}. Got 'ls' instead.\n",
      "\n",
      "  warnings.warn(some_fits_failed_message, FitFailedWarning)\n",
      "/home/zaphyra/Documents/Vscode/iadev-py/numpy_py/.venvnumpy/lib64/python3.11/site-packages/sklearn/model_selection/_search.py:952: UserWarning: One or more of the test scores are non-finite: [       nan 0.34096104        nan 0.56141643]\n",
      "  warnings.warn(\n",
      "/home/zaphyra/Documents/Vscode/iadev-py/numpy_py/.venvnumpy/lib64/python3.11/site-packages/sklearn/model_selection/_search.py:952: UserWarning: One or more of the test scores are non-finite: [         nan -18.53565692          nan -14.24218525]\n",
      "  warnings.warn(\n",
      "/home/zaphyra/Documents/Vscode/iadev-py/numpy_py/.venvnumpy/lib64/python3.11/site-packages/sklearn/model_selection/_search.py:952: UserWarning: One or more of the test scores are non-finite: [          nan -761.78939694           nan -506.91296579]\n",
      "  warnings.warn(\n"
     ]
    },
    {
     "name": "stdout",
     "output_type": "stream",
     "text": [
      "Best Parameters: {'learning_rate': 0.1, 'loss': 'huber', 'n_estimators': 50}\n",
      "R2: 0.5341833360009189\n",
      "MAE: 14.296621205864147\n",
      "RMSE: 23.239122386473806\n",
      "====================\n",
      "evaluation of XGBRegressor running\n",
      "Best Parameters: {'learning_rate': 1, 'n_estimators': 50}\n",
      "R2: 0.6693427183096918\n",
      "MAE: 12.503925002302173\n",
      "RMSE: 19.579484726044143\n",
      "====================\n"
     ]
    }
   ],
   "source": [
    "# Split the data in a training set and a test set\n",
    "X_train, X_test, y_train, y_test = train_test_split(X, y, test_size=0.3, random_state=42, shuffle=True)\n",
    "\n",
    "# Scoring metrics for evaluation\n",
    "scoring_metrics = ['r2', 'neg_mean_absolute_error', 'neg_mean_squared_error']\n",
    "\n",
    "# Model Evaluation Loop\n",
    "for model_name,model in regressors.items() :\n",
    "    print(f\"evaluation of {model_name} running\")\n",
    "\n",
    "    # Hyperparameter Tuning and Cross-Validation\n",
    "    param_grid = param_grids[model_name]  # Get the hyperparameter grid for the current model\n",
    "    grid_search = GridSearchCV(model, param_grid, scoring=scoring_metrics, refit='r2', cv=5)\n",
    "    grid_search.fit(X_train, y_train)  # Perform grid search and cross-validation\n",
    "    \n",
    "    best_model = grid_search.best_estimator_  # Get the best model from the grid search\n",
    "    y_pred = best_model.predict(X_test)  # Predict target values using the best model\n",
    "\n",
    "    # Calculate evaluation metrics    \n",
    "    r2 = r2_score(y_test, y_pred) # R-squared\n",
    "    mae = mean_absolute_error(y_test, y_pred) # Mean Absolute Error\n",
    "    rmse = mean_squared_error(y_test, y_pred, squared=False) # Root Mean Squared Error\n",
    "\n",
    "    print(\"Best Parameters:\", grid_search.best_params_)\n",
    "    print(\"R2:\", r2)\n",
    "    print(\"MAE:\", mae)\n",
    "    print(\"RMSE:\", rmse)\n",
    "    print(\"=\" * 20)  # display 20 times '='"
   ]
  },
  {
   "cell_type": "code",
   "execution_count": 10,
   "id": "f2c0e39c",
   "metadata": {},
   "outputs": [
    {
     "name": "stdout",
     "output_type": "stream",
     "text": [
      "The best model is XGBRegressor\n",
      "Hyperparameters used by the best model:\n",
      "learning_rate: 1\n",
      "n_estimators: 50\n"
     ]
    }
   ],
   "source": [
    "# Select the best model and its hyperparameters\n",
    "best_model_name = type(grid_search.best_estimator_).__name__\n",
    "print(f\"The best model is {best_model_name}\")\n",
    "\n",
    "best_params = grid_search.best_params_\n",
    "print(\"Hyperparameters used by the best model:\")\n",
    "for param, value in best_params.items():\n",
    "    print(f\"{param}: {value}\")"
   ]
  },
  {
   "attachments": {},
   "cell_type": "markdown",
   "id": "e54e58cc",
   "metadata": {},
   "source": [
    "train test split à 30% : utiliser ces 30% pour gridsearch (pour limiter le temps de recherche)\n",
    "permet de tester le meilleur modèle (une fois qu'il est choisit, on peut utiliser KFold pour l'intégralité des données pour ce modèle)"
   ]
  },
  {
   "cell_type": "code",
   "execution_count": 11,
   "id": "5425e970",
   "metadata": {},
   "outputs": [
    {
     "data": {
      "text/plain": [
       "['Model.pkl']"
      ]
     },
     "execution_count": 11,
     "metadata": {},
     "output_type": "execute_result"
    }
   ],
   "source": [
    "# Save the trained model\n",
    "dump(best_model, 'Model.pkl')"
   ]
  },
  {
   "attachments": {},
   "cell_type": "markdown",
   "id": "65dd3d8a",
   "metadata": {},
   "source": [
    "### Application Web\n",
    "\n",
    "Développer une application Streamlit avec les options suivantes :\n",
    "\n",
    "    1- L'utilisateur doit selectionner le type du carrosserie à partire d'un menu déroulant\n",
    "    2- L'utilisateur doit saisir 'masse_ordma_min' et 'masse_ordma_max' dans deux champs de saisie différent\n",
    "    3- Programmer un boutton pour lancer la prédiction de CO2"
   ]
  },
  {
   "cell_type": "code",
   "execution_count": null,
   "id": "a6b80f7e",
   "metadata": {},
   "outputs": [],
   "source": []
  }
 ],
 "metadata": {
  "kernelspec": {
   "display_name": "Python 3 (ipykernel)",
   "language": "python",
   "name": "python3"
  },
  "language_info": {
   "codemirror_mode": {
    "name": "ipython",
    "version": 3
   },
   "file_extension": ".py",
   "mimetype": "text/x-python",
   "name": "python",
   "nbconvert_exporter": "python",
   "pygments_lexer": "ipython3",
   "version": "3.11.4"
  }
 },
 "nbformat": 4,
 "nbformat_minor": 5
}
